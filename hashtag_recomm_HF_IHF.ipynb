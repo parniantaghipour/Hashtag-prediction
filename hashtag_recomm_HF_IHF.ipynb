{
  "nbformat": 4,
  "nbformat_minor": 0,
  "metadata": {
    "colab": {
      "name": "hashtag_recomm_HF_IHF.ipynb",
      "provenance": [],
      "collapsed_sections": [
        "tnYlH41fQDGX",
        "QGjOyoksN3BP",
        "jJtvro6qOCvm"
      ]
    },
    "kernelspec": {
      "name": "python3",
      "display_name": "Python 3"
    }
  },
  "cells": [
    {
      "cell_type": "markdown",
      "metadata": {
        "id": "tnYlH41fQDGX"
      },
      "source": [
        "## Authentication"
      ]
    },
    {
      "cell_type": "code",
      "metadata": {
        "id": "nAuFqbdimzxK"
      },
      "source": [
        "from pydrive.auth import GoogleAuth\n",
        "from pydrive.drive import GoogleDrive\n",
        "from google.colab import auth\n",
        "from oauth2client.client import GoogleCredentials"
      ],
      "execution_count": null,
      "outputs": []
    },
    {
      "cell_type": "code",
      "metadata": {
        "id": "XOdOzX-DoV3-"
      },
      "source": [
        "auth.authenticate_user()\n",
        "gauth = GoogleAuth()\n",
        "gauth.credentials = GoogleCredentials.get_application_default()\n",
        "drive = GoogleDrive(gauth)"
      ],
      "execution_count": null,
      "outputs": []
    },
    {
      "cell_type": "code",
      "metadata": {
        "id": "xn9TrN0hnEgP"
      },
      "source": [
        "def load_file_from_drive(id, name):\n",
        "    downloaded = drive.CreateFile({'id':id})\n",
        "    downloaded.GetContentFile(name)"
      ],
      "execution_count": null,
      "outputs": []
    },
    {
      "cell_type": "code",
      "metadata": {
        "colab": {
          "base_uri": "https://localhost:8080/"
        },
        "id": "TKOGOO-kL9Z8",
        "outputId": "e700d3d4-328e-4cf4-cca4-ad3d56c1d5f0"
      },
      "source": [
        "!ls"
      ],
      "execution_count": null,
      "outputs": [
        {
          "output_type": "stream",
          "text": [
            "adc.json  sample_data  tweets.csv\n"
          ],
          "name": "stdout"
        }
      ]
    },
    {
      "cell_type": "markdown",
      "metadata": {
        "id": "QGjOyoksN3BP"
      },
      "source": [
        "## importing modules"
      ]
    },
    {
      "cell_type": "code",
      "metadata": {
        "id": "-4QR2vibrwUK",
        "colab": {
          "base_uri": "https://localhost:8080/"
        },
        "outputId": "ee137710-0d3f-4eb7-a1f3-4135fbc88730"
      },
      "source": [
        "!pip install ipython-autotime\r\n",
        "\r\n",
        "%load_ext autotime"
      ],
      "execution_count": null,
      "outputs": [
        {
          "output_type": "stream",
          "text": [
            "Requirement already satisfied: ipython-autotime in /usr/local/lib/python3.6/dist-packages (0.3.1)\n",
            "Requirement already satisfied: ipython in /usr/local/lib/python3.6/dist-packages (from ipython-autotime) (5.5.0)\n",
            "Requirement already satisfied: pygments in /usr/local/lib/python3.6/dist-packages (from ipython->ipython-autotime) (2.6.1)\n",
            "Requirement already satisfied: traitlets>=4.2 in /usr/local/lib/python3.6/dist-packages (from ipython->ipython-autotime) (4.3.3)\n",
            "Requirement already satisfied: decorator in /usr/local/lib/python3.6/dist-packages (from ipython->ipython-autotime) (4.4.2)\n",
            "Requirement already satisfied: simplegeneric>0.8 in /usr/local/lib/python3.6/dist-packages (from ipython->ipython-autotime) (0.8.1)\n",
            "Requirement already satisfied: pickleshare in /usr/local/lib/python3.6/dist-packages (from ipython->ipython-autotime) (0.7.5)\n",
            "Requirement already satisfied: setuptools>=18.5 in /usr/local/lib/python3.6/dist-packages (from ipython->ipython-autotime) (51.3.3)\n",
            "Requirement already satisfied: prompt-toolkit<2.0.0,>=1.0.4 in /usr/local/lib/python3.6/dist-packages (from ipython->ipython-autotime) (1.0.18)\n",
            "Requirement already satisfied: pexpect; sys_platform != \"win32\" in /usr/local/lib/python3.6/dist-packages (from ipython->ipython-autotime) (4.8.0)\n",
            "Requirement already satisfied: ipython-genutils in /usr/local/lib/python3.6/dist-packages (from traitlets>=4.2->ipython->ipython-autotime) (0.2.0)\n",
            "Requirement already satisfied: six in /usr/local/lib/python3.6/dist-packages (from traitlets>=4.2->ipython->ipython-autotime) (1.15.0)\n",
            "Requirement already satisfied: wcwidth in /usr/local/lib/python3.6/dist-packages (from prompt-toolkit<2.0.0,>=1.0.4->ipython->ipython-autotime) (0.2.5)\n",
            "Requirement already satisfied: ptyprocess>=0.5 in /usr/local/lib/python3.6/dist-packages (from pexpect; sys_platform != \"win32\"->ipython->ipython-autotime) (0.7.0)\n",
            "time: 165 µs (started: 2021-01-27 08:24:32 +00:00)\n"
          ],
          "name": "stdout"
        }
      ]
    },
    {
      "cell_type": "code",
      "metadata": {
        "colab": {
          "base_uri": "https://localhost:8080/"
        },
        "id": "PaVSYyKvL_HS",
        "outputId": "f57ed1dc-f089-4e1a-ffcb-46a279e146d4"
      },
      "source": [
        "import pandas as pd\r\n",
        "import re\r\n",
        "import nltk\r\n",
        "from nltk.stem import PorterStemmer\r\n",
        "nltk.download('stopwords')\r\n",
        "from nltk.corpus import stopwords\r\n",
        "\r\n",
        "import pickle\r\n",
        "from sklearn.feature_extraction.text import CountVectorizer"
      ],
      "execution_count": null,
      "outputs": [
        {
          "output_type": "stream",
          "text": [
            "[nltk_data] Downloading package stopwords to /root/nltk_data...\n",
            "[nltk_data]   Package stopwords is already up-to-date!\n",
            "time: 644 ms (started: 2021-01-27 08:24:32 +00:00)\n"
          ],
          "name": "stdout"
        }
      ]
    },
    {
      "cell_type": "markdown",
      "metadata": {
        "id": "jJtvro6qOCvm"
      },
      "source": [
        "## Preprocessing dataset"
      ]
    },
    {
      "cell_type": "code",
      "metadata": {
        "id": "2i-r1zA4OAuK",
        "colab": {
          "base_uri": "https://localhost:8080/"
        },
        "outputId": "c3f80691-c3f6-45ac-83f0-601f1ab1f27d"
      },
      "source": [
        "df=pd.read_csv('tweets.csv')"
      ],
      "execution_count": null,
      "outputs": [
        {
          "output_type": "stream",
          "text": [
            "time: 1.08 s (started: 2021-01-27 08:29:04 +00:00)\n"
          ],
          "name": "stdout"
        }
      ]
    },
    {
      "cell_type": "code",
      "metadata": {
        "id": "u4FAwhTBsyxU",
        "colab": {
          "base_uri": "https://localhost:8080/"
        },
        "outputId": "d6c1525b-bd1e-44eb-f697-eee4f238cbae"
      },
      "source": [
        "df = df.drop_duplicates()"
      ],
      "execution_count": null,
      "outputs": [
        {
          "output_type": "stream",
          "text": [
            "time: 337 ms (started: 2021-01-27 08:29:06 +00:00)\n"
          ],
          "name": "stdout"
        }
      ]
    },
    {
      "cell_type": "code",
      "metadata": {
        "colab": {
          "base_uri": "https://localhost:8080/"
        },
        "id": "mpsecHNJOK0-",
        "outputId": "1a613925-756a-42a1-bd68-35fccca52a31"
      },
      "source": [
        "df.head()"
      ],
      "execution_count": null,
      "outputs": [
        {
          "output_type": "execute_result",
          "data": {
            "text/html": [
              "<div>\n",
              "<style scoped>\n",
              "    .dataframe tbody tr th:only-of-type {\n",
              "        vertical-align: middle;\n",
              "    }\n",
              "\n",
              "    .dataframe tbody tr th {\n",
              "        vertical-align: top;\n",
              "    }\n",
              "\n",
              "    .dataframe thead th {\n",
              "        text-align: right;\n",
              "    }\n",
              "</style>\n",
              "<table border=\"1\" class=\"dataframe\">\n",
              "  <thead>\n",
              "    <tr style=\"text-align: right;\">\n",
              "      <th></th>\n",
              "      <th>Time</th>\n",
              "      <th>Text</th>\n",
              "      <th>Location</th>\n",
              "      <th>RetweetCount</th>\n",
              "      <th>LikeCount</th>\n",
              "      <th>Author</th>\n",
              "    </tr>\n",
              "  </thead>\n",
              "  <tbody>\n",
              "    <tr>\n",
              "      <th>0</th>\n",
              "      <td>2020-12-11 17:23:14</td>\n",
              "      <td>b'@ ERobbPrincipal RT @bbray27: Qs for 12/14/2...</td>\n",
              "      <td>NaN</td>\n",
              "      <td>0</td>\n",
              "      <td>0</td>\n",
              "      <td>User(_api=&lt;tweepy.api.API object at 0x7fa7712d...</td>\n",
              "    </tr>\n",
              "    <tr>\n",
              "      <th>1</th>\n",
              "      <td>2020-12-11 17:23:14</td>\n",
              "      <td>b'RT @RitheeshVfc: B/W love \\xf0\\x9f\\x96\\xa4\\x...</td>\n",
              "      <td>NaN</td>\n",
              "      <td>7</td>\n",
              "      <td>0</td>\n",
              "      <td>User(_api=&lt;tweepy.api.API object at 0x7fa7712d...</td>\n",
              "    </tr>\n",
              "    <tr>\n",
              "      <th>2</th>\n",
              "      <td>2020-12-11 17:23:14</td>\n",
              "      <td>b\"Watch @pinkun's broadcast: Daniel Farke Pres...</td>\n",
              "      <td>NaN</td>\n",
              "      <td>0</td>\n",
              "      <td>0</td>\n",
              "      <td>User(_api=&lt;tweepy.api.API object at 0x7fa7712d...</td>\n",
              "    </tr>\n",
              "    <tr>\n",
              "      <th>3</th>\n",
              "      <td>2020-12-11 17:23:13</td>\n",
              "      <td>b'RT @Prada: The holidays are for intrigue. Di...</td>\n",
              "      <td>NaN</td>\n",
              "      <td>5</td>\n",
              "      <td>0</td>\n",
              "      <td>User(_api=&lt;tweepy.api.API object at 0x7fa7712d...</td>\n",
              "    </tr>\n",
              "    <tr>\n",
              "      <th>4</th>\n",
              "      <td>2020-12-11 17:23:11</td>\n",
              "      <td>b'RT @ArkadyRzegocki: #OTD in 1994 died Gen St...</td>\n",
              "      <td>NaN</td>\n",
              "      <td>15</td>\n",
              "      <td>0</td>\n",
              "      <td>User(_api=&lt;tweepy.api.API object at 0x7fa7712d...</td>\n",
              "    </tr>\n",
              "  </tbody>\n",
              "</table>\n",
              "</div>"
            ],
            "text/plain": [
              "                  Time  ...                                             Author\n",
              "0  2020-12-11 17:23:14  ...  User(_api=<tweepy.api.API object at 0x7fa7712d...\n",
              "1  2020-12-11 17:23:14  ...  User(_api=<tweepy.api.API object at 0x7fa7712d...\n",
              "2  2020-12-11 17:23:14  ...  User(_api=<tweepy.api.API object at 0x7fa7712d...\n",
              "3  2020-12-11 17:23:13  ...  User(_api=<tweepy.api.API object at 0x7fa7712d...\n",
              "4  2020-12-11 17:23:11  ...  User(_api=<tweepy.api.API object at 0x7fa7712d...\n",
              "\n",
              "[5 rows x 6 columns]"
            ]
          },
          "metadata": {
            "tags": []
          },
          "execution_count": 12
        },
        {
          "output_type": "stream",
          "text": [
            "time: 23.9 ms (started: 2021-01-27 08:29:06 +00:00)\n"
          ],
          "name": "stdout"
        }
      ]
    },
    {
      "cell_type": "code",
      "metadata": {
        "colab": {
          "base_uri": "https://localhost:8080/"
        },
        "id": "Y5cc7P66ON5V",
        "outputId": "c8c01b0a-eaec-428b-879a-8f799d5c1d5d"
      },
      "source": [
        "df.columns[df.isnull().any()]"
      ],
      "execution_count": null,
      "outputs": [
        {
          "output_type": "execute_result",
          "data": {
            "text/plain": [
              "Index(['Location'], dtype='object')"
            ]
          },
          "metadata": {
            "tags": []
          },
          "execution_count": 13
        },
        {
          "output_type": "stream",
          "text": [
            "time: 21.7 ms (started: 2021-01-27 08:29:06 +00:00)\n"
          ],
          "name": "stdout"
        }
      ]
    },
    {
      "cell_type": "markdown",
      "metadata": {
        "id": "Po4AeCZcQrIh"
      },
      "source": [
        "**PreProcessing**"
      ]
    },
    {
      "cell_type": "code",
      "metadata": {
        "id": "zZipUQxZQCcX",
        "colab": {
          "base_uri": "https://localhost:8080/"
        },
        "outputId": "964182b6-5ef2-4e87-ba47-cbeadc969bff"
      },
      "source": [
        "def preprocess(tweet):\r\n",
        "    hashtags = []\r\n",
        "    tokenizer=nltk.RegexpTokenizer(r\"\\w+\")\r\n",
        "    stopword_list=nltk.corpus.stopwords.words('english')+ ['u','im','rt','ummm','b','dont', 'arent','ya','yall','isnt'\r\n",
        "                                                          ,'cant','couldnt','wouldnt','wont', 'yr','aint','gonna','ur',\r\n",
        "                                                          'didnt','r','wasnt','werent','might','maybe','doesnt','would','shes'\r\n",
        "                                                          ,'hes','youre', 'omg','us', 'wow'] + stopwords.words('english')\r\n",
        "\r\n",
        "    preposition = ['in', 'at', 'by', 'from', 'on', 'for', 'with', 'about', 'into', 'through', 'between', 'under',\r\n",
        "                   'against', 'during', 'without', 'upon', 'toward', 'among', 'within', 'along', 'across', 'behind',\r\n",
        "                   'near', 'beyond', 'using', 'throughout', 'despite', 'to', 'beside', 'plus', 'towards', 'concerning',\r\n",
        "                   'onto', 'beneath', 'via']\r\n",
        "    stopword_list += preposition\r\n",
        "    ps=PorterStemmer()\r\n",
        "\r\n",
        "    #Convert to lower case\r\n",
        "    tweet = tweet['Text'].lower()\r\n",
        "    # remove unwanted characters\r\n",
        "    tweet=re.sub(r'(\\\\x[^\\s][^\\s])',\"\", tweet)\r\n",
        "    # remove \\n\r\n",
        "    tweet=re.sub(r'\\\\n',' ',tweet)\r\n",
        "    #remove url and mentions\r\n",
        "    tweet = re.sub(r\"(?:\\@|rt @|https?\\://)\\S+\", \" \", tweet)\r\n",
        "    #Remove additional white spaces\r\n",
        "    tweet = re.sub('[\\s]+', ' ', tweet)\r\n",
        "    #extract hashtags\r\n",
        "    hashtags = re.findall(r\"#(\\w+)\", tweet)\r\n",
        "    # remove hashtags from tweet\r\n",
        "    tweet = re.sub(r'#([^\\s]+)',\" \", tweet)\r\n",
        "    # tokenize tweets and remove punctuantions\r\n",
        "    tokens=tokenizer.tokenize(tweet)\r\n",
        "    # remove stopwords and stemming\r\n",
        "    tokens=[ps.stem(word) for word in tokens if word not in stopword_list]\r\n",
        "    # remove short words and numbers\r\n",
        "    twt=' '.join([token for token in tokens if token.isalpha() and len(token)>2 ])\r\n",
        "    hashtags=' '.join(hashtags)\r\n",
        "    return twt, hashtags"
      ],
      "execution_count": null,
      "outputs": [
        {
          "output_type": "stream",
          "text": [
            "time: 37.5 ms (started: 2021-01-27 08:29:06 +00:00)\n"
          ],
          "name": "stdout"
        }
      ]
    },
    {
      "cell_type": "code",
      "metadata": {
        "id": "SJK7Bgrzm3te",
        "colab": {
          "base_uri": "https://localhost:8080/"
        },
        "outputId": "47e46965-8266-4b80-de52-8d918fdb9a16"
      },
      "source": [
        "df[['Text','hashtags']]=df.apply(preprocess, axis=1, result_type=\"expand\")"
      ],
      "execution_count": null,
      "outputs": [
        {
          "output_type": "stream",
          "text": [
            "time: 17.3 s (started: 2021-01-27 08:29:06 +00:00)\n"
          ],
          "name": "stdout"
        }
      ]
    },
    {
      "cell_type": "code",
      "metadata": {
        "id": "HLS9LtIVpivN",
        "colab": {
          "base_uri": "https://localhost:8080/"
        },
        "outputId": "cebd571e-390a-415c-f801-be7ed91c27df"
      },
      "source": [
        "df = df[df.hashtags !='']"
      ],
      "execution_count": null,
      "outputs": [
        {
          "output_type": "stream",
          "text": [
            "time: 19.1 ms (started: 2021-01-27 08:29:24 +00:00)\n"
          ],
          "name": "stdout"
        }
      ]
    },
    {
      "cell_type": "code",
      "metadata": {
        "id": "3UBBIEmCsWPs",
        "colab": {
          "base_uri": "https://localhost:8080/"
        },
        "outputId": "84d73044-e2c2-4549-e339-4be2a699f672"
      },
      "source": [
        "df=df[df.Text !='']"
      ],
      "execution_count": null,
      "outputs": [
        {
          "output_type": "stream",
          "text": [
            "time: 14.4 ms (started: 2021-01-27 08:29:24 +00:00)\n"
          ],
          "name": "stdout"
        }
      ]
    },
    {
      "cell_type": "code",
      "metadata": {
        "colab": {
          "base_uri": "https://localhost:8080/"
        },
        "id": "ySsMgFAmFpZs",
        "outputId": "3cc89925-4ded-4104-9452-5c30fd85b634"
      },
      "source": [
        "df.head()"
      ],
      "execution_count": null,
      "outputs": [
        {
          "output_type": "execute_result",
          "data": {
            "text/html": [
              "<div>\n",
              "<style scoped>\n",
              "    .dataframe tbody tr th:only-of-type {\n",
              "        vertical-align: middle;\n",
              "    }\n",
              "\n",
              "    .dataframe tbody tr th {\n",
              "        vertical-align: top;\n",
              "    }\n",
              "\n",
              "    .dataframe thead th {\n",
              "        text-align: right;\n",
              "    }\n",
              "</style>\n",
              "<table border=\"1\" class=\"dataframe\">\n",
              "  <thead>\n",
              "    <tr style=\"text-align: right;\">\n",
              "      <th></th>\n",
              "      <th>Time</th>\n",
              "      <th>Text</th>\n",
              "      <th>Location</th>\n",
              "      <th>RetweetCount</th>\n",
              "      <th>LikeCount</th>\n",
              "      <th>Author</th>\n",
              "      <th>hashtags</th>\n",
              "    </tr>\n",
              "  </thead>\n",
              "  <tbody>\n",
              "    <tr>\n",
              "      <th>0</th>\n",
              "      <td>2020-12-11 17:23:14</td>\n",
              "      <td>erobbprincip chat guest host buildin</td>\n",
              "      <td>NaN</td>\n",
              "      <td>0</td>\n",
              "      <td>0</td>\n",
              "      <td>User(_api=&lt;tweepy.api.API object at 0x7fa7712d...</td>\n",
              "      <td>rethink_learning</td>\n",
              "    </tr>\n",
              "    <tr>\n",
              "      <th>1</th>\n",
              "      <td>2020-12-11 17:23:14</td>\n",
              "      <td>love</td>\n",
              "      <td>NaN</td>\n",
              "      <td>7</td>\n",
              "      <td>0</td>\n",
              "      <td>User(_api=&lt;tweepy.api.API object at 0x7fa7712d...</td>\n",
              "      <td>master</td>\n",
              "    </tr>\n",
              "    <tr>\n",
              "      <th>2</th>\n",
              "      <td>2020-12-11 17:23:14</td>\n",
              "      <td>watch broadcast daniel fark press confer bulletin</td>\n",
              "      <td>NaN</td>\n",
              "      <td>0</td>\n",
              "      <td>0</td>\n",
              "      <td>User(_api=&lt;tweepy.api.API object at 0x7fa7712d...</td>\n",
              "      <td>ncfc rovers football sport norwich</td>\n",
              "    </tr>\n",
              "    <tr>\n",
              "      <th>3</th>\n",
              "      <td>2020-12-11 17:23:13</td>\n",
              "      <td>holiday intrigu discov new stranger call campa...</td>\n",
              "      <td>NaN</td>\n",
              "      <td>5</td>\n",
              "      <td>0</td>\n",
              "      <td>User(_api=&lt;tweepy.api.API object at 0x7fa7712d...</td>\n",
              "      <td>pradagifts pradaholiday20</td>\n",
              "    </tr>\n",
              "    <tr>\n",
              "      <th>4</th>\n",
              "      <td>2020-12-11 17:23:11</td>\n",
              "      <td>die gen stanisaw play key role battl normandi ...</td>\n",
              "      <td>NaN</td>\n",
              "      <td>15</td>\n",
              "      <td>0</td>\n",
              "      <td>User(_api=&lt;tweepy.api.API object at 0x7fa7712d...</td>\n",
              "      <td>otd maczek</td>\n",
              "    </tr>\n",
              "  </tbody>\n",
              "</table>\n",
              "</div>"
            ],
            "text/plain": [
              "                  Time  ...                            hashtags\n",
              "0  2020-12-11 17:23:14  ...                    rethink_learning\n",
              "1  2020-12-11 17:23:14  ...                              master\n",
              "2  2020-12-11 17:23:14  ...  ncfc rovers football sport norwich\n",
              "3  2020-12-11 17:23:13  ...           pradagifts pradaholiday20\n",
              "4  2020-12-11 17:23:11  ...                          otd maczek\n",
              "\n",
              "[5 rows x 7 columns]"
            ]
          },
          "metadata": {
            "tags": []
          },
          "execution_count": 18
        },
        {
          "output_type": "stream",
          "text": [
            "time: 21.2 ms (started: 2021-01-27 08:29:24 +00:00)\n"
          ],
          "name": "stdout"
        }
      ]
    },
    {
      "cell_type": "code",
      "metadata": {
        "colab": {
          "base_uri": "https://localhost:8080/"
        },
        "id": "8fuhu2tMqYrJ",
        "outputId": "7cf16584-190a-4f90-b8b2-59555fa4aa04"
      },
      "source": [
        "len(df)"
      ],
      "execution_count": null,
      "outputs": [
        {
          "output_type": "execute_result",
          "data": {
            "text/plain": [
              "27126"
            ]
          },
          "metadata": {
            "tags": []
          },
          "execution_count": 19
        },
        {
          "output_type": "stream",
          "text": [
            "time: 2.73 ms (started: 2021-01-27 08:29:24 +00:00)\n"
          ],
          "name": "stdout"
        }
      ]
    },
    {
      "cell_type": "markdown",
      "metadata": {
        "id": "lNj8MZPCXZ4j"
      },
      "source": [
        "split train and text data"
      ]
    },
    {
      "cell_type": "code",
      "metadata": {
        "id": "KkL6znIUJ8AB",
        "colab": {
          "base_uri": "https://localhost:8080/"
        },
        "outputId": "a9f46488-b733-4395-bb84-bbfd9111355a"
      },
      "source": [
        "from sklearn.model_selection import train_test_split\r\n",
        "x_train, x_test, y_train, y_test = train_test_split(df['Text'],df['hashtags'],test_size=0.1,random_state=42)"
      ],
      "execution_count": null,
      "outputs": [
        {
          "output_type": "stream",
          "text": [
            "time: 13.3 ms (started: 2021-01-27 08:29:24 +00:00)\n"
          ],
          "name": "stdout"
        }
      ]
    },
    {
      "cell_type": "code",
      "metadata": {
        "colab": {
          "base_uri": "https://localhost:8080/"
        },
        "id": "uHvaMB-zPgY_",
        "outputId": "d876650e-817e-4a7b-e1ae-5c7462e39f11"
      },
      "source": [
        "len(x_test)"
      ],
      "execution_count": null,
      "outputs": [
        {
          "output_type": "execute_result",
          "data": {
            "text/plain": [
              "2713"
            ]
          },
          "metadata": {
            "tags": []
          },
          "execution_count": 21
        },
        {
          "output_type": "stream",
          "text": [
            "time: 4.89 ms (started: 2021-01-27 08:29:24 +00:00)\n"
          ],
          "name": "stdout"
        }
      ]
    },
    {
      "cell_type": "code",
      "metadata": {
        "colab": {
          "base_uri": "https://localhost:8080/"
        },
        "id": "XUs3yaovnP5d",
        "outputId": "be411184-d6f4-4633-8f98-443346b19ed0"
      },
      "source": [
        "df.head()"
      ],
      "execution_count": null,
      "outputs": [
        {
          "output_type": "execute_result",
          "data": {
            "text/html": [
              "<div>\n",
              "<style scoped>\n",
              "    .dataframe tbody tr th:only-of-type {\n",
              "        vertical-align: middle;\n",
              "    }\n",
              "\n",
              "    .dataframe tbody tr th {\n",
              "        vertical-align: top;\n",
              "    }\n",
              "\n",
              "    .dataframe thead th {\n",
              "        text-align: right;\n",
              "    }\n",
              "</style>\n",
              "<table border=\"1\" class=\"dataframe\">\n",
              "  <thead>\n",
              "    <tr style=\"text-align: right;\">\n",
              "      <th></th>\n",
              "      <th>Time</th>\n",
              "      <th>Text</th>\n",
              "      <th>Location</th>\n",
              "      <th>RetweetCount</th>\n",
              "      <th>LikeCount</th>\n",
              "      <th>Author</th>\n",
              "      <th>hashtags</th>\n",
              "    </tr>\n",
              "  </thead>\n",
              "  <tbody>\n",
              "    <tr>\n",
              "      <th>0</th>\n",
              "      <td>2020-12-11 17:23:14</td>\n",
              "      <td>erobbprincip chat guest host buildin</td>\n",
              "      <td>NaN</td>\n",
              "      <td>0</td>\n",
              "      <td>0</td>\n",
              "      <td>User(_api=&lt;tweepy.api.API object at 0x7fa7712d...</td>\n",
              "      <td>rethink_learning</td>\n",
              "    </tr>\n",
              "    <tr>\n",
              "      <th>1</th>\n",
              "      <td>2020-12-11 17:23:14</td>\n",
              "      <td>love</td>\n",
              "      <td>NaN</td>\n",
              "      <td>7</td>\n",
              "      <td>0</td>\n",
              "      <td>User(_api=&lt;tweepy.api.API object at 0x7fa7712d...</td>\n",
              "      <td>master</td>\n",
              "    </tr>\n",
              "    <tr>\n",
              "      <th>2</th>\n",
              "      <td>2020-12-11 17:23:14</td>\n",
              "      <td>watch broadcast daniel fark press confer bulletin</td>\n",
              "      <td>NaN</td>\n",
              "      <td>0</td>\n",
              "      <td>0</td>\n",
              "      <td>User(_api=&lt;tweepy.api.API object at 0x7fa7712d...</td>\n",
              "      <td>ncfc rovers football sport norwich</td>\n",
              "    </tr>\n",
              "    <tr>\n",
              "      <th>3</th>\n",
              "      <td>2020-12-11 17:23:13</td>\n",
              "      <td>holiday intrigu discov new stranger call campa...</td>\n",
              "      <td>NaN</td>\n",
              "      <td>5</td>\n",
              "      <td>0</td>\n",
              "      <td>User(_api=&lt;tweepy.api.API object at 0x7fa7712d...</td>\n",
              "      <td>pradagifts pradaholiday20</td>\n",
              "    </tr>\n",
              "    <tr>\n",
              "      <th>4</th>\n",
              "      <td>2020-12-11 17:23:11</td>\n",
              "      <td>die gen stanisaw play key role battl normandi ...</td>\n",
              "      <td>NaN</td>\n",
              "      <td>15</td>\n",
              "      <td>0</td>\n",
              "      <td>User(_api=&lt;tweepy.api.API object at 0x7fa7712d...</td>\n",
              "      <td>otd maczek</td>\n",
              "    </tr>\n",
              "  </tbody>\n",
              "</table>\n",
              "</div>"
            ],
            "text/plain": [
              "                  Time  ...                            hashtags\n",
              "0  2020-12-11 17:23:14  ...                    rethink_learning\n",
              "1  2020-12-11 17:23:14  ...                              master\n",
              "2  2020-12-11 17:23:14  ...  ncfc rovers football sport norwich\n",
              "3  2020-12-11 17:23:13  ...           pradagifts pradaholiday20\n",
              "4  2020-12-11 17:23:11  ...                          otd maczek\n",
              "\n",
              "[5 rows x 7 columns]"
            ]
          },
          "metadata": {
            "tags": []
          },
          "execution_count": 22
        },
        {
          "output_type": "stream",
          "text": [
            "time: 26.3 ms (started: 2021-01-27 08:29:24 +00:00)\n"
          ],
          "name": "stdout"
        }
      ]
    },
    {
      "cell_type": "code",
      "metadata": {
        "colab": {
          "base_uri": "https://localhost:8080/"
        },
        "id": "WqTCUWYIpbys",
        "outputId": "d548bf68-1bf9-4fbd-d5b5-b72286909374"
      },
      "source": [
        "y_test.head()"
      ],
      "execution_count": null,
      "outputs": [
        {
          "output_type": "execute_result",
          "data": {
            "text/plain": [
              "25009    vaccine sdoh covid19 cova\n",
              "6937                       chicago\n",
              "25655             monbebe monsta_x\n",
              "27772                       amazon\n",
              "26486             monbebe monsta_x\n",
              "Name: hashtags, dtype: object"
            ]
          },
          "metadata": {
            "tags": []
          },
          "execution_count": 23
        },
        {
          "output_type": "stream",
          "text": [
            "time: 5.87 ms (started: 2021-01-27 08:29:24 +00:00)\n"
          ],
          "name": "stdout"
        }
      ]
    },
    {
      "cell_type": "markdown",
      "metadata": {
        "id": "ZfI-NRYr8CsH"
      },
      "source": [
        "## HF_IHU"
      ]
    },
    {
      "cell_type": "code",
      "metadata": {
        "id": "qETbs1G5BYlg",
        "colab": {
          "base_uri": "https://localhost:8080/"
        },
        "outputId": "5483732c-afa7-43b2-e531-f800e42a7047"
      },
      "source": [
        "corpus=[]\r\n",
        "hashtagTweets = {}\r\n",
        "wordHashtags = {}\r\n",
        "hashtagWithWholeTweets = {}\r\n",
        "for tweet, hashtag in zip(x_train,y_train):\r\n",
        "  corpus+=tweet.split()\r\n",
        "  for h in hashtag.split():\r\n",
        "    if h not in hashtagTweets:\r\n",
        "        hashtagTweets[h] = tweet\r\n",
        "    else:\r\n",
        "        hashtagTweets[h] += tweet\r\n",
        "  for word in tweet.split():\r\n",
        "    if word not in wordHashtags:\r\n",
        "        wordHashtags[word] = hashtag\r\n",
        "    else:\r\n",
        "        wordHashtags[word] += (hashtag+ \" \")"
      ],
      "execution_count": null,
      "outputs": [
        {
          "output_type": "stream",
          "text": [
            "time: 254 ms (started: 2021-01-27 08:29:37 +00:00)\n"
          ],
          "name": "stdout"
        }
      ]
    },
    {
      "cell_type": "code",
      "metadata": {
        "id": "jZru57hnFgiH",
        "colab": {
          "base_uri": "https://localhost:8080/"
        },
        "outputId": "2cea7176-bd72-4169-cfc7-53ef5361f4a2"
      },
      "source": [
        "for word in wordHashtags:\r\n",
        "  # print(len(wordHashtags[word].split()))\r\n",
        "  wordHashtags[word].split()"
      ],
      "execution_count": null,
      "outputs": [
        {
          "output_type": "stream",
          "text": [
            "time: 26.8 ms (started: 2021-01-27 08:29:45 +00:00)\n"
          ],
          "name": "stdout"
        }
      ]
    },
    {
      "cell_type": "markdown",
      "metadata": {
        "id": "MWPJNjtBGEPW"
      },
      "source": [
        "### training"
      ]
    },
    {
      "cell_type": "code",
      "metadata": {
        "id": "J-38ABhzAyWM",
        "colab": {
          "base_uri": "https://localhost:8080/"
        },
        "outputId": "19cebb5b-2185-44d1-d364-d570f86489ea"
      },
      "source": [
        "from collections import defaultdict \r\n",
        "import math\r\n",
        "hashtagFrequency = defaultdict(dict)\r\n",
        "\r\n",
        "def hfIcf():\r\n",
        "    V = len(corpus)\r\n",
        "    for word in wordHashtags:\r\n",
        "        allHashtagNum = len(wordHashtags[word].split())\r\n",
        "        for hashtag in wordHashtags[word].split():\r\n",
        "          n=0\r\n",
        "          for h in wordHashtags[word].split():\r\n",
        "            if h == hashtag:\r\n",
        "              n+=1\r\n",
        "          hashtagFrequency[word][hashtag] = float(n)/allHashtagNum\r\n",
        "\r\n",
        "    inverseCorpusFrequency = {}\r\n",
        "    for hashtag in hashtagTweets:\r\n",
        "        allWordSum=len(hashtagTweets[hashtag].split())\r\n",
        "        inverseLog = math.log(V) - math.log(allWordSum)\r\n",
        "        inverseCorpusFrequency[hashtag] = inverseLog\r\n",
        "\r\n",
        "    return hashtagFrequency,inverseCorpusFrequency\r\n",
        "\r\n"
      ],
      "execution_count": null,
      "outputs": [
        {
          "output_type": "stream",
          "text": [
            "time: 14.2 ms (started: 2021-01-27 08:30:21 +00:00)\n"
          ],
          "name": "stdout"
        }
      ]
    },
    {
      "cell_type": "code",
      "metadata": {
        "id": "a_Q25Je3HLEM",
        "colab": {
          "base_uri": "https://localhost:8080/"
        },
        "outputId": "fcabb197-f1e3-4461-a70c-e18f99e7649f"
      },
      "source": [
        "hashtag_frequency,inverse_corpus_frequency = hfIcf()"
      ],
      "execution_count": null,
      "outputs": [
        {
          "output_type": "stream",
          "text": [
            "time: 22.2 s (started: 2021-01-27 08:30:58 +00:00)\n"
          ],
          "name": "stdout"
        }
      ]
    },
    {
      "cell_type": "code",
      "metadata": {
        "id": "S0ElzyXHc6su",
        "colab": {
          "base_uri": "https://localhost:8080/"
        },
        "outputId": "d5f6d2b0-e32c-4ae1-8c3e-b6b9cbfe28d9"
      },
      "source": [
        "save_inverseCorpusFrequencys = open('inverseCorpusFrequency.pickle','wb')\r\n",
        "pickle.dump(inverse_corpus_frequency, save_inverseCorpusFrequencys)\r\n",
        "save_inverseCorpusFrequencys.close()"
      ],
      "execution_count": null,
      "outputs": [
        {
          "output_type": "stream",
          "text": [
            "time: 12 ms (started: 2021-01-27 08:31:26 +00:00)\n"
          ],
          "name": "stdout"
        }
      ]
    },
    {
      "cell_type": "code",
      "metadata": {
        "id": "xw4d0SMfenW5",
        "colab": {
          "base_uri": "https://localhost:8080/"
        },
        "outputId": "f524fc09-34dc-40bd-b45e-6153f79b18de"
      },
      "source": [
        "save_hashtagFrequency = open('hashtagFrequency.pickle','wb')\r\n",
        "pickle.dump(hashtag_frequency, save_hashtagFrequency)\r\n",
        "save_hashtagFrequency.close()"
      ],
      "execution_count": null,
      "outputs": [
        {
          "output_type": "stream",
          "text": [
            "time: 54.2 ms (started: 2021-01-27 08:31:32 +00:00)\n"
          ],
          "name": "stdout"
        }
      ]
    },
    {
      "cell_type": "code",
      "metadata": {
        "id": "13nL8sqBqpD4",
        "colab": {
          "base_uri": "https://localhost:8080/"
        },
        "outputId": "ad11420e-0464-4299-c5af-a2b0ccd7f625"
      },
      "source": [
        "# sort hashtag according to the value of it\r\n",
        "def sortedHashtag(hashtagFrequency, inverseCorpusFrequency):\r\n",
        "    sortedWordHashtags = defaultdict(dict)\r\n",
        "    for word in hashtagFrequency:\r\n",
        "        hashtagWithValue = []\r\n",
        "        for hashtag in hashtagFrequency[word]:\r\n",
        "          if hashtag in inverseCorpusFrequency:\r\n",
        "            # print('mmmmmmmmmmmmmmmmmmmmmmmmmmmmmmmmm')\r\n",
        "            value = hashtagFrequency[word][hashtag] * inverseCorpusFrequency[hashtag]\r\n",
        "          else:\r\n",
        "            value = hashtagFrequency[word][hashtag]\r\n",
        "          hashtagWithValue.append((hashtag, value))\r\n",
        "        hashtagWithValue = sorted(hashtagWithValue, key= lambda hashtagWithValue: hashtagWithValue[1], reverse = True)\r\n",
        "        sortedWordHashtags[word] = hashtagWithValue\r\n",
        "    return sortedWordHashtags\r\n"
      ],
      "execution_count": null,
      "outputs": [
        {
          "output_type": "stream",
          "text": [
            "time: 9.78 ms (started: 2021-01-27 08:31:38 +00:00)\n"
          ],
          "name": "stdout"
        }
      ]
    },
    {
      "cell_type": "code",
      "metadata": {
        "id": "0Y7j5F5OpFbb",
        "colab": {
          "base_uri": "https://localhost:8080/"
        },
        "outputId": "d1d847b0-c65a-46a2-d0c6-78d39222c2e7"
      },
      "source": [
        "sorted_word_hashtags = sortedHashtag(hashtag_frequency,inverse_corpus_frequency)"
      ],
      "execution_count": null,
      "outputs": [
        {
          "output_type": "stream",
          "text": [
            "time: 101 ms (started: 2021-01-27 08:32:00 +00:00)\n"
          ],
          "name": "stdout"
        }
      ]
    },
    {
      "cell_type": "code",
      "metadata": {
        "id": "lbJH6HvZfLv9",
        "colab": {
          "base_uri": "https://localhost:8080/"
        },
        "outputId": "0ccdd8ad-a68e-4560-8478-15fc4ad8bddf"
      },
      "source": [
        "save_sortedWordHashtags = open('sortedWordHashtags.pickle','wb')\r\n",
        "pickle.dump(sorted_word_hashtags, save_sortedWordHashtags)\r\n",
        "save_sortedWordHashtags.close()"
      ],
      "execution_count": null,
      "outputs": [
        {
          "output_type": "stream",
          "text": [
            "time: 56.4 ms (started: 2021-01-27 08:32:02 +00:00)\n"
          ],
          "name": "stdout"
        }
      ]
    },
    {
      "cell_type": "markdown",
      "metadata": {
        "id": "oj3u-cP6nY6q"
      },
      "source": [
        "### evaluation"
      ]
    },
    {
      "cell_type": "code",
      "metadata": {
        "id": "Af3updNoGtcv",
        "colab": {
          "base_uri": "https://localhost:8080/"
        },
        "outputId": "35c0b5c0-bcf2-4006-8f58-cf5883866cdc"
      },
      "source": [
        "def hashtagRecommend(tweet,hashtags,hashtagFrequency,inverseCorpusFrequency):\r\n",
        "    tweetScore = []\r\n",
        "    for word in tweet.split():\r\n",
        "        score =0\r\n",
        "        if word in hashtagFrequency:\r\n",
        "            for hashtag in hashtagFrequency[word]:\r\n",
        "              if hashtag in inverseCorpusFrequency:\r\n",
        "                score += hashtagFrequency[word][hashtag] * inverseCorpusFrequency[hashtag]\r\n",
        "              else:\r\n",
        "                score += hashtagFrequency[word][hashtag]\r\n",
        "        tweetScore.append((word,score))\r\n",
        "\r\n",
        "    tweetScore = sorted(tweetScore, key= lambda tweetScore: tweetScore[1], reverse= True)\r\n",
        "    return tweetScore"
      ],
      "execution_count": null,
      "outputs": [
        {
          "output_type": "stream",
          "text": [
            "time: 5.79 ms (started: 2021-01-27 08:31:46 +00:00)\n"
          ],
          "name": "stdout"
        }
      ]
    },
    {
      "cell_type": "code",
      "metadata": {
        "id": "XlOHTmm8G5_E",
        "colab": {
          "base_uri": "https://localhost:8080/"
        },
        "outputId": "fbb07a72-ced4-4207-c1e7-ac8b5ffbdde5"
      },
      "source": [
        "def accuracy(x_test, y_test, hashtagFrequency,inverseCorpusFrequency,sortedWordHashtags):\r\n",
        "    correctNum = 0\r\n",
        "    totalTweetsNum = 0\r\n",
        "\r\n",
        "    tp=0\r\n",
        "    fn=0\r\n",
        "    fp=0\r\n",
        "    tn=0\r\n",
        "    for tweet, hashtags in zip(x_test,y_test):\r\n",
        "        original_hashtags=hashtags.split()\r\n",
        "        rankedWords = hashtagRecommend(tweet,hashtags,hashtagFrequency,inverseCorpusFrequency)\r\n",
        "        hashtagRecommended = []\r\n",
        "        num = 0\r\n",
        "        less = 0\r\n",
        "        for i in range(0, len(rankedWords)):\r\n",
        "            num_per_word = 0\r\n",
        "            if num == 5:\r\n",
        "                break\r\n",
        "            hashtagNum = 0\r\n",
        "            if i < 4:\r\n",
        "                hashtagNum = 4 -i + less\r\n",
        "            else:\r\n",
        "                hashtagNum = 2\r\n",
        "            if rankedWords[i][1] !=0:\r\n",
        "                for j in range(0, hashtagNum):\r\n",
        "                    if j == len(sortedWordHashtags[rankedWords[i][0]]):\r\n",
        "                        break\r\n",
        "                    hashtagRecommended.append(sortedWordHashtags[rankedWords[i][0]][j][0])\r\n",
        "                    num += 1\r\n",
        "                    num_per_word += 1\r\n",
        "                less = hashtagNum - num_per_word\r\n",
        "\r\n",
        "            else:\r\n",
        "                break\r\n",
        "        # print(hashtagRecommended)\r\n",
        "        if len(hashtagRecommended) != 0:\r\n",
        "            \r\n",
        "            totalTweetsNum += 1\r\n",
        "            correct = False\r\n",
        "            for h in original_hashtags:\r\n",
        "            # print(h)\r\n",
        "                if h in hashtagRecommended:\r\n",
        "                    correctNum += 1\r\n",
        "                    correct = True\r\n",
        "                    break\r\n",
        "\r\n",
        "        if hashtagRecommended:\r\n",
        "            for recom in hashtagRecommended:\r\n",
        "                if recom in original_hashtags:\r\n",
        "                    tp+=1\r\n",
        "                else:\r\n",
        "                    fp+=1\r\n",
        "            for org in original_hashtags:\r\n",
        "                if org not in hashtagRecommended:\r\n",
        "                    fn+=1\r\n",
        "    if tp==0:\r\n",
        "        precision=0\r\n",
        "        recall=0\r\n",
        "        f1=0\r\n",
        "    else:\r\n",
        "        precision= (tp/(tp+fp))*100\r\n",
        "        recall=(tp/(tp+fn))*100\r\n",
        "        f1 = 2 * (precision * recall) / (precision + recall)\r\n",
        "        accuracy=(float(correctNum)/(totalTweetsNum+1))*100\r\n",
        "    \r\n",
        "        \r\n",
        "\r\n",
        "    return precision, recall, f1, accuracy"
      ],
      "execution_count": null,
      "outputs": [
        {
          "output_type": "stream",
          "text": [
            "time: 63.4 ms (started: 2021-01-27 08:31:50 +00:00)\n"
          ],
          "name": "stdout"
        }
      ]
    },
    {
      "cell_type": "code",
      "metadata": {
        "id": "y2y6CQwYpSBB",
        "colab": {
          "base_uri": "https://localhost:8080/"
        },
        "outputId": "89afc619-78cc-4940-8b7e-6e2c3efcf972"
      },
      "source": [
        "precision, recall, f1, accuracy_score = accuracy(x_test, y_test, hashtag_frequency, inverse_corpus_frequency, sorted_word_hashtags)"
      ],
      "execution_count": null,
      "outputs": [
        {
          "output_type": "stream",
          "text": [
            "time: 601 ms (started: 2021-01-27 08:32:10 +00:00)\n"
          ],
          "name": "stdout"
        }
      ]
    },
    {
      "cell_type": "code",
      "metadata": {
        "id": "OejBShdNX7ka",
        "colab": {
          "base_uri": "https://localhost:8080/"
        },
        "outputId": "5c4e5de4-4f4d-4bd6-f77f-fe9125fa37dc"
      },
      "source": [
        "print(precision)\r\n",
        "print(recall)\r\n",
        "print(f1)\r\n",
        "print(accuracy_score)"
      ],
      "execution_count": null,
      "outputs": [
        {
          "output_type": "stream",
          "text": [
            "32.58020164986251\n",
            "92.13920031106215\n",
            "48.13868057083848\n",
            "81.01732399557685\n",
            "time: 1.8 ms (started: 2021-01-27 08:32:12 +00:00)\n"
          ],
          "name": "stdout"
        }
      ]
    },
    {
      "cell_type": "code",
      "metadata": {
        "id": "AYNUi702jd2X",
        "colab": {
          "base_uri": "https://localhost:8080/",
          "height": 123
        },
        "outputId": "40f334c9-ec53-479e-9e19-e046423733db"
      },
      "source": [
        "from IPython.display import HTML, display\r\n",
        "import tabulate\r\n",
        "table = [[\"Precision\",precision],\r\n",
        "         [\"recall\",recall],\r\n",
        "         [\"f1 score\",f1],\r\n",
        "         [\"accuracy\",accuracy_score]]\r\n",
        "display(HTML(tabulate.tabulate(table, tablefmt='html')))"
      ],
      "execution_count": null,
      "outputs": [
        {
          "output_type": "display_data",
          "data": {
            "text/html": [
              "<table>\n",
              "<tbody>\n",
              "<tr><td>Precision</td><td style=\"text-align: right;\">32.5802</td></tr>\n",
              "<tr><td>recall   </td><td style=\"text-align: right;\">92.1392</td></tr>\n",
              "<tr><td>f1 score </td><td style=\"text-align: right;\">48.1387</td></tr>\n",
              "<tr><td>accuracy </td><td style=\"text-align: right;\">81.0173</td></tr>\n",
              "</tbody>\n",
              "</table>"
            ],
            "text/plain": [
              "<IPython.core.display.HTML object>"
            ]
          },
          "metadata": {
            "tags": []
          }
        },
        {
          "output_type": "stream",
          "text": [
            "time: 13.3 ms (started: 2021-01-27 08:32:17 +00:00)\n"
          ],
          "name": "stdout"
        }
      ]
    },
    {
      "cell_type": "code",
      "metadata": {
        "id": "BhgjnAeet_QB",
        "colab": {
          "base_uri": "https://localhost:8080/"
        },
        "outputId": "509f4e29-ece5-44a8-b040-9a26fc643cf3"
      },
      "source": [
        "print(hashtagRecommend('Today is warm', '', hashtag_frequency, inverse_corpus_frequency))"
      ],
      "execution_count": null,
      "outputs": [
        {
          "output_type": "stream",
          "text": [
            "[('warm', 8.773226223831113), ('Today', 0), ('is', 0)]\n",
            "time: 2.11 ms (started: 2021-01-27 08:10:01 +00:00)\n"
          ],
          "name": "stdout"
        }
      ]
    },
    {
      "cell_type": "markdown",
      "metadata": {
        "id": "Pcm2byJvn5Aq"
      },
      "source": [
        "predict new tweet"
      ]
    },
    {
      "cell_type": "code",
      "metadata": {
        "id": "P_iVXY3WYgpo",
        "colab": {
          "base_uri": "https://localhost:8080/"
        },
        "outputId": "17ec1025-8579-4f7c-bd8e-ef9a4dac4577"
      },
      "source": [
        "def new_hashtag_recommendation(new_tweet_str):\r\n",
        "    inverseCorpusFrequency=pickle.load(open('inverseCorpusFrequency.pickle','rb'))\r\n",
        "    hashtagFrequency=pickle.load(open('hashtagFrequency.pickle','rb'))\r\n",
        "    sortedWordHashtags=pickle.load(open('sortedWordHashtags.pickle','rb'))\r\n",
        "    # inverseCorpusFrequency=inverse_corpus_frequency\r\n",
        "    # hashtagFrequency=hashtag_frequency\r\n",
        "    # sortedWordHashtags=sorted_word_hashtags\r\n",
        "    rankedWords=hashtagRecommend(new_tweet_str, '', hashtagFrequency, inverseCorpusFrequency)\r\n",
        "    hashtagRecommended = []\r\n",
        "    num = 0\r\n",
        "    less = 0\r\n",
        "    for i in range(0, len(rankedWords)):\r\n",
        "        num_per_word = 0\r\n",
        "        if num == 5 or len(hashtagRecommended)>=5:\r\n",
        "            break\r\n",
        "        hashtagNum = 0\r\n",
        "        if i < 4:\r\n",
        "            hashtagNum = 4 -i + less\r\n",
        "        else:\r\n",
        "            hashtagNum = 2\r\n",
        "        if rankedWords[i][1] !=0:\r\n",
        "            for j in range(0, hashtagNum):\r\n",
        "                if len(hashtagRecommended)>=5:\r\n",
        "                    break\r\n",
        "                if j == len(sortedWordHashtags[rankedWords[i][0]]):\r\n",
        "                    break\r\n",
        "                hashtagRecommended.append(sortedWordHashtags[rankedWords[i][0]][j][0])\r\n",
        "                num += 1\r\n",
        "                num_per_word += 1\r\n",
        "            less = hashtagNum - num_per_word\r\n",
        "\r\n",
        "        else:\r\n",
        "            break\r\n",
        "    return hashtagRecommended \r\n"
      ],
      "execution_count": null,
      "outputs": [
        {
          "output_type": "stream",
          "text": [
            "time: 20.5 ms (started: 2021-01-27 08:32:21 +00:00)\n"
          ],
          "name": "stdout"
        }
      ]
    },
    {
      "cell_type": "code",
      "metadata": {
        "id": "Eqxp7Jo9cwSI",
        "colab": {
          "base_uri": "https://localhost:8080/"
        },
        "outputId": "6a19b38c-5723-4535-bc93-e8b47574494f"
      },
      "source": [
        "print(new_hashtag_recommendation('today is warm'))"
      ],
      "execution_count": null,
      "outputs": [
        {
          "output_type": "stream",
          "text": [
            "['coatsforkidsatx', 'sjd', 'mdzs', 'seaice', 'wordoftheday']\n",
            "time: 172 ms (started: 2021-01-27 08:32:26 +00:00)\n"
          ],
          "name": "stdout"
        }
      ]
    }
  ]
}